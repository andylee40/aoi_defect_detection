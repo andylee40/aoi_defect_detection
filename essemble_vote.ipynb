{
 "cells": [
  {
   "cell_type": "code",
   "execution_count": 2,
   "id": "0cc58db9-f966-4005-a6dc-9f5692019a35",
   "metadata": {
    "tags": []
   },
   "outputs": [],
   "source": [
    "import pandas as pd\n",
    "import os"
   ]
  },
  {
   "cell_type": "code",
   "execution_count": 3,
   "id": "409c1d8f-a973-494a-bc2d-cfd3f531218e",
   "metadata": {
    "tags": []
   },
   "outputs": [],
   "source": [
    "predict_files=os.listdir('./submission')"
   ]
  },
  {
   "cell_type": "code",
   "execution_count": 4,
   "id": "4a0b8360-5532-436d-bde9-f72096ab1541",
   "metadata": {
    "tags": []
   },
   "outputs": [
    {
     "data": {
      "text/plain": [
       "['submission_DenseNet121.csv',\n",
       " 'submission_Resnet50.csv',\n",
       " '.ipynb_checkpoints',\n",
       " 'submission_EfficientNetB0.csv']"
      ]
     },
     "execution_count": 4,
     "metadata": {},
     "output_type": "execute_result"
    }
   ],
   "source": [
    "predict_files"
   ]
  },
  {
   "cell_type": "code",
   "execution_count": 9,
   "id": "ef0d8343-c8ab-4cde-99ec-c7724ee2127f",
   "metadata": {
    "tags": []
   },
   "outputs": [],
   "source": [
    "DenseNet121_predict = pd.read_csv(\"submission/submission_DenseNet121.csv\")\n",
    "Resnet50_predict = pd.read_csv(\"submission/submission_Resnet50.csv\")\n",
    "EfficientNetB0_predict = pd.read_csv(\"submission/submission_EfficientNetB0.csv\")"
   ]
  },
  {
   "cell_type": "code",
   "execution_count": 14,
   "id": "fc25fa12-be2b-4a0c-8e79-2b6123cda3d6",
   "metadata": {
    "tags": []
   },
   "outputs": [],
   "source": [
    "DenseNet121_predict = DenseNet121_predict.rename(columns={\"Label\": \"D_predict\"})\n",
    "Resnet50_predict = Resnet50_predict.rename(columns={\"Label\": \"R_predict\"})\n",
    "EfficientNetB0_predict = EfficientNetB0_predict.rename(columns={\"Label\": \"E_predict\"})"
   ]
  },
  {
   "cell_type": "code",
   "execution_count": 23,
   "id": "56b455df-bed1-47f8-bcb0-1bcbc5545deb",
   "metadata": {
    "tags": []
   },
   "outputs": [],
   "source": [
    "final_predict = DenseNet121_predict.merge(Resnet50_predict, on=\"ID\").merge(EfficientNetB0_predict, on=\"ID\")"
   ]
  },
  {
   "cell_type": "code",
   "execution_count": 25,
   "id": "302700b0-9c81-465c-b271-45d094137cb8",
   "metadata": {
    "tags": []
   },
   "outputs": [
    {
     "name": "stdout",
     "output_type": "stream",
     "text": [
      "D_predict 和 R_predict 預測不同的個數: 195\n",
      "D_predict 和 E_predict 預測不同的個數: 118\n",
      "R_predict 和 E_predict 預測不同的個數: 205\n"
     ]
    }
   ],
   "source": [
    "import itertools\n",
    "columns = ['D_predict', 'R_predict', 'E_predict']\n",
    "for col1, col2 in itertools.combinations(columns, 2):\n",
    "    diff_count = (final_predict[col1] != final_predict[col2]).sum()\n",
    "    print(f\"{col1} 和 {col2} 預測不同的個數: {diff_count}\")"
   ]
  },
  {
   "cell_type": "code",
   "execution_count": 26,
   "id": "24a8936e-e139-43d9-b6be-d7a80fdbf9d3",
   "metadata": {
    "tags": []
   },
   "outputs": [],
   "source": [
    "from collections import Counter\n",
    "def majority_vote(row):\n",
    "    votes = [row[\"D_predict\"], row[\"R_predict\"], row[\"E_predict\"]]\n",
    "    return Counter(votes).most_common(1)[0][0]  "
   ]
  },
  {
   "cell_type": "code",
   "execution_count": 27,
   "id": "cb8e56bc-cd8d-455b-adba-7a9935317336",
   "metadata": {
    "tags": []
   },
   "outputs": [],
   "source": [
    "final_predict[\"VOTE_predict\"] = final_predict.apply(majority_vote, axis=1)"
   ]
  },
  {
   "cell_type": "code",
   "execution_count": 28,
   "id": "983166f1-d6e5-4722-b9cd-c768b99c3fe2",
   "metadata": {
    "tags": []
   },
   "outputs": [
    {
     "data": {
      "text/html": [
       "<div>\n",
       "<style scoped>\n",
       "    .dataframe tbody tr th:only-of-type {\n",
       "        vertical-align: middle;\n",
       "    }\n",
       "\n",
       "    .dataframe tbody tr th {\n",
       "        vertical-align: top;\n",
       "    }\n",
       "\n",
       "    .dataframe thead th {\n",
       "        text-align: right;\n",
       "    }\n",
       "</style>\n",
       "<table border=\"1\" class=\"dataframe\">\n",
       "  <thead>\n",
       "    <tr style=\"text-align: right;\">\n",
       "      <th></th>\n",
       "      <th>ID</th>\n",
       "      <th>D_predict</th>\n",
       "      <th>R_predict</th>\n",
       "      <th>E_predict</th>\n",
       "      <th>VOTE_predict</th>\n",
       "    </tr>\n",
       "  </thead>\n",
       "  <tbody>\n",
       "    <tr>\n",
       "      <th>0</th>\n",
       "      <td>test_00000.png</td>\n",
       "      <td>1</td>\n",
       "      <td>1</td>\n",
       "      <td>1</td>\n",
       "      <td>1</td>\n",
       "    </tr>\n",
       "    <tr>\n",
       "      <th>1</th>\n",
       "      <td>test_00001.png</td>\n",
       "      <td>2</td>\n",
       "      <td>2</td>\n",
       "      <td>2</td>\n",
       "      <td>2</td>\n",
       "    </tr>\n",
       "    <tr>\n",
       "      <th>2</th>\n",
       "      <td>test_00002.png</td>\n",
       "      <td>5</td>\n",
       "      <td>5</td>\n",
       "      <td>5</td>\n",
       "      <td>5</td>\n",
       "    </tr>\n",
       "    <tr>\n",
       "      <th>3</th>\n",
       "      <td>test_00003.png</td>\n",
       "      <td>0</td>\n",
       "      <td>1</td>\n",
       "      <td>0</td>\n",
       "      <td>0</td>\n",
       "    </tr>\n",
       "    <tr>\n",
       "      <th>4</th>\n",
       "      <td>test_00004.png</td>\n",
       "      <td>2</td>\n",
       "      <td>2</td>\n",
       "      <td>2</td>\n",
       "      <td>2</td>\n",
       "    </tr>\n",
       "    <tr>\n",
       "      <th>5</th>\n",
       "      <td>test_00005.png</td>\n",
       "      <td>5</td>\n",
       "      <td>5</td>\n",
       "      <td>5</td>\n",
       "      <td>5</td>\n",
       "    </tr>\n",
       "    <tr>\n",
       "      <th>6</th>\n",
       "      <td>test_00006.png</td>\n",
       "      <td>5</td>\n",
       "      <td>5</td>\n",
       "      <td>5</td>\n",
       "      <td>5</td>\n",
       "    </tr>\n",
       "    <tr>\n",
       "      <th>7</th>\n",
       "      <td>test_00007.png</td>\n",
       "      <td>5</td>\n",
       "      <td>5</td>\n",
       "      <td>5</td>\n",
       "      <td>5</td>\n",
       "    </tr>\n",
       "    <tr>\n",
       "      <th>8</th>\n",
       "      <td>test_00008.png</td>\n",
       "      <td>0</td>\n",
       "      <td>0</td>\n",
       "      <td>0</td>\n",
       "      <td>0</td>\n",
       "    </tr>\n",
       "    <tr>\n",
       "      <th>9</th>\n",
       "      <td>test_00009.png</td>\n",
       "      <td>2</td>\n",
       "      <td>2</td>\n",
       "      <td>2</td>\n",
       "      <td>2</td>\n",
       "    </tr>\n",
       "    <tr>\n",
       "      <th>10</th>\n",
       "      <td>test_00010.png</td>\n",
       "      <td>3</td>\n",
       "      <td>3</td>\n",
       "      <td>3</td>\n",
       "      <td>3</td>\n",
       "    </tr>\n",
       "    <tr>\n",
       "      <th>11</th>\n",
       "      <td>test_00011.png</td>\n",
       "      <td>0</td>\n",
       "      <td>0</td>\n",
       "      <td>0</td>\n",
       "      <td>0</td>\n",
       "    </tr>\n",
       "    <tr>\n",
       "      <th>12</th>\n",
       "      <td>test_00012.png</td>\n",
       "      <td>0</td>\n",
       "      <td>0</td>\n",
       "      <td>0</td>\n",
       "      <td>0</td>\n",
       "    </tr>\n",
       "    <tr>\n",
       "      <th>13</th>\n",
       "      <td>test_00013.png</td>\n",
       "      <td>1</td>\n",
       "      <td>1</td>\n",
       "      <td>1</td>\n",
       "      <td>1</td>\n",
       "    </tr>\n",
       "    <tr>\n",
       "      <th>14</th>\n",
       "      <td>test_00014.png</td>\n",
       "      <td>1</td>\n",
       "      <td>1</td>\n",
       "      <td>1</td>\n",
       "      <td>1</td>\n",
       "    </tr>\n",
       "    <tr>\n",
       "      <th>15</th>\n",
       "      <td>test_00015.png</td>\n",
       "      <td>0</td>\n",
       "      <td>0</td>\n",
       "      <td>0</td>\n",
       "      <td>0</td>\n",
       "    </tr>\n",
       "    <tr>\n",
       "      <th>16</th>\n",
       "      <td>test_00016.png</td>\n",
       "      <td>0</td>\n",
       "      <td>0</td>\n",
       "      <td>0</td>\n",
       "      <td>0</td>\n",
       "    </tr>\n",
       "    <tr>\n",
       "      <th>17</th>\n",
       "      <td>test_00017.png</td>\n",
       "      <td>5</td>\n",
       "      <td>5</td>\n",
       "      <td>5</td>\n",
       "      <td>5</td>\n",
       "    </tr>\n",
       "    <tr>\n",
       "      <th>18</th>\n",
       "      <td>test_00018.png</td>\n",
       "      <td>0</td>\n",
       "      <td>0</td>\n",
       "      <td>0</td>\n",
       "      <td>0</td>\n",
       "    </tr>\n",
       "    <tr>\n",
       "      <th>19</th>\n",
       "      <td>test_00019.png</td>\n",
       "      <td>0</td>\n",
       "      <td>0</td>\n",
       "      <td>0</td>\n",
       "      <td>0</td>\n",
       "    </tr>\n",
       "  </tbody>\n",
       "</table>\n",
       "</div>"
      ],
      "text/plain": [
       "                ID  D_predict  R_predict  E_predict  VOTE_predict\n",
       "0   test_00000.png          1          1          1             1\n",
       "1   test_00001.png          2          2          2             2\n",
       "2   test_00002.png          5          5          5             5\n",
       "3   test_00003.png          0          1          0             0\n",
       "4   test_00004.png          2          2          2             2\n",
       "5   test_00005.png          5          5          5             5\n",
       "6   test_00006.png          5          5          5             5\n",
       "7   test_00007.png          5          5          5             5\n",
       "8   test_00008.png          0          0          0             0\n",
       "9   test_00009.png          2          2          2             2\n",
       "10  test_00010.png          3          3          3             3\n",
       "11  test_00011.png          0          0          0             0\n",
       "12  test_00012.png          0          0          0             0\n",
       "13  test_00013.png          1          1          1             1\n",
       "14  test_00014.png          1          1          1             1\n",
       "15  test_00015.png          0          0          0             0\n",
       "16  test_00016.png          0          0          0             0\n",
       "17  test_00017.png          5          5          5             5\n",
       "18  test_00018.png          0          0          0             0\n",
       "19  test_00019.png          0          0          0             0"
      ]
     },
     "execution_count": 28,
     "metadata": {},
     "output_type": "execute_result"
    }
   ],
   "source": [
    "final_predict.head(20)"
   ]
  },
  {
   "cell_type": "code",
   "execution_count": 29,
   "id": "68ca5c51-29fd-4d4d-a6d7-d9e013d66b12",
   "metadata": {
    "tags": []
   },
   "outputs": [],
   "source": [
    "submission_VOTE=final_predict[['ID','VOTE_predict']]\n",
    "submission_VOTE=submission_VOTE.rename(columns={\"VOTE_predict\": \"Label\"})\n",
    "submission_VOTE.to_csv(\"submission/submission_VOTE.csv\",index=False)"
   ]
  },
  {
   "cell_type": "code",
   "execution_count": null,
   "id": "53fdc221-6ca7-4ca1-991f-376d03dc25c2",
   "metadata": {},
   "outputs": [],
   "source": []
  }
 ],
 "metadata": {
  "kernelspec": {
   "display_name": "yolov7_v2",
   "language": "python",
   "name": "yolov7_v2"
  },
  "language_info": {
   "codemirror_mode": {
    "name": "ipython",
    "version": 3
   },
   "file_extension": ".py",
   "mimetype": "text/x-python",
   "name": "python",
   "nbconvert_exporter": "python",
   "pygments_lexer": "ipython3",
   "version": "3.8.16"
  }
 },
 "nbformat": 4,
 "nbformat_minor": 5
}
