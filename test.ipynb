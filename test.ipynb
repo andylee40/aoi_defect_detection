{
 "cells": [
  {
   "cell_type": "code",
   "execution_count": 1,
   "id": "cd950f6b-76b0-4724-b937-4b1bc6ac08fd",
   "metadata": {
    "tags": []
   },
   "outputs": [
    {
     "name": "stderr",
     "output_type": "stream",
     "text": [
      "/work/u7412932/myenv/.package_yolov7_v2_nchc_conda/envs/yolov7_v2/lib/python3.8/site-packages/tqdm/auto.py:22: TqdmWarning: IProgress not found. Please update jupyter and ipywidgets. See https://ipywidgets.readthedocs.io/en/stable/user_install.html\n",
      "  from .autonotebook import tqdm as notebook_tqdm\n"
     ]
    }
   ],
   "source": [
    "from load_data import *\n",
    "from models import *\n",
    "from utils import *\n",
    "from collections import defaultdict"
   ]
  },
  {
   "cell_type": "code",
   "execution_count": 2,
   "id": "c2816c28-202c-4ff1-8ff1-5bb6a01a4849",
   "metadata": {
    "tags": []
   },
   "outputs": [],
   "source": [
    "device = torch.device('cuda') if torch.cuda.is_available() else torch.device('cpu')"
   ]
  },
  {
   "cell_type": "code",
   "execution_count": 3,
   "id": "fe61afff-036d-47ef-9c45-343f65ebe531",
   "metadata": {
    "tags": []
   },
   "outputs": [
    {
     "name": "stdout",
     "output_type": "stream",
     "text": [
      "✅ 成功載入模型，來自 epoch: 7\n",
      "valid_loss_min: 0.001977，valid_accuracy_max: 0.986166\n"
     ]
    }
   ],
   "source": [
    "model=EfficientNetB0()\n",
    "mode='EfficientNetB0'\n",
    "model = load_model(model, 'weights/{}_best.pt'.format(mode), device)  "
   ]
  },
  {
   "cell_type": "code",
   "execution_count": 4,
   "id": "bb63108c-3f84-4d08-a0b1-2c5b936b79f9",
   "metadata": {
    "tags": []
   },
   "outputs": [
    {
     "name": "stdout",
     "output_type": "stream",
     "text": [
      "Model Size: 15.48 MB\n"
     ]
    }
   ],
   "source": [
    "get_model_size(model)"
   ]
  },
  {
   "cell_type": "code",
   "execution_count": 5,
   "id": "e46ba625-ab7e-4c4c-aaad-f6fc9221b580",
   "metadata": {
    "tags": []
   },
   "outputs": [],
   "source": [
    "test_outputs=test(model,device, test_data_loader)\n",
    "test_id=list(test_df['ID'].values)"
   ]
  },
  {
   "cell_type": "code",
   "execution_count": 6,
   "id": "2210b428-af0e-4639-91e3-6997ee871950",
   "metadata": {
    "tags": []
   },
   "outputs": [],
   "source": [
    "sub_df = pd.DataFrame({'ID': test_id, 'Label': test_outputs})\n",
    "sub_df.to_csv('submission/submission_{}.csv'.format(mode),index=False)"
   ]
  },
  {
   "cell_type": "code",
   "execution_count": null,
   "id": "3b848b76-d52a-4a04-8f8f-b48318a7e9b5",
   "metadata": {},
   "outputs": [],
   "source": []
  }
 ],
 "metadata": {
  "kernelspec": {
   "display_name": "yolov7_v2",
   "language": "python",
   "name": "yolov7_v2"
  },
  "language_info": {
   "codemirror_mode": {
    "name": "ipython",
    "version": 3
   },
   "file_extension": ".py",
   "mimetype": "text/x-python",
   "name": "python",
   "nbconvert_exporter": "python",
   "pygments_lexer": "ipython3",
   "version": "3.8.16"
  }
 },
 "nbformat": 4,
 "nbformat_minor": 5
}
